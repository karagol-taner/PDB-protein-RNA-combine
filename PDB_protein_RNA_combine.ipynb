{
  "nbformat": 4,
  "nbformat_minor": 0,
  "metadata": {
    "colab": {
      "provenance": [],
      "authorship_tag": "ABX9TyOd08Vo355yocnf2kcrb65e",
      "include_colab_link": true
    },
    "kernelspec": {
      "name": "python3",
      "display_name": "Python 3"
    },
    "language_info": {
      "name": "python"
    }
  },
  "cells": [
    {
      "cell_type": "markdown",
      "metadata": {
        "id": "view-in-github",
        "colab_type": "text"
      },
      "source": [
        "<a href=\"https://colab.research.google.com/github/karagol-taner/PDB-protein-RNA-combine/blob/main/PDB_protein_RNA_combine.ipynb\" target=\"_parent\"><img src=\"https://colab.research.google.com/assets/colab-badge.svg\" alt=\"Open In Colab\"/></a>"
      ]
    },
    {
      "cell_type": "code",
      "execution_count": 1,
      "metadata": {
        "id": "EMtCPXJpB3d1"
      },
      "outputs": [],
      "source": [
        "def reassign_chain_id(pdb_lines, new_chain_id):\n",
        "    reassigned_lines = []\n",
        "    for line in pdb_lines:\n",
        "        if line.startswith(('ATOM', 'HETATM')):\n",
        "            line = line[:21] + new_chain_id + line[22:]\n",
        "        reassigned_lines.append(line)\n",
        "    return reassigned_lines\n",
        "\n",
        "def combine_pdb_files(protein_pdb, rna_pdb, output_pdb):\n",
        "    with open(protein_pdb, 'r') as protein_file, open(rna_pdb, 'r') as rna_file, open(output_pdb, 'w') as outfile:\n",
        "        protein_lines = protein_file.readlines()\n",
        "        rna_lines = rna_file.readlines()\n",
        "\n",
        "        # Reassign chain IDs\n",
        "        protein_lines = reassign_chain_id(protein_lines, 'A')\n",
        "        rna_lines = reassign_chain_id(rna_lines, 'B')\n",
        "\n",
        "        # Write protein lines\n",
        "        for line in protein_lines:\n",
        "            outfile.write(line)\n",
        "        outfile.write('TER\\n')\n",
        "\n",
        "        # Write RNA lines\n",
        "        for line in rna_lines:\n",
        "            outfile.write(line)\n",
        "        outfile.write('TER\\nEND\\n')\n",
        "\n",
        "# Example usage\n",
        "combine_pdb_files('eaa5c.pdb', '5iso2.pred1.min.pdb', 'combined.pdb')\n"
      ]
    }
  ]
}